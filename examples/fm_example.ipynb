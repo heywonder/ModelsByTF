{
 "cells": [
  {
   "cell_type": "code",
   "execution_count": 1,
   "metadata": {},
   "outputs": [
    {
     "data": {
      "text/html": [
       "<style>.container { width:80% !important; }</style>"
      ],
      "text/plain": [
       "<IPython.core.display.HTML object>"
      ]
     },
     "metadata": {},
     "output_type": "display_data"
    }
   ],
   "source": [
    "import sys\n",
    "sys.path.append('/home/lipeng/projects/tensorflow')\n",
    "import pandas as pd\n",
    "from sklearn.model_selection import train_test_split\n",
    "import pickle\n",
    "from data_parser import DataParser\n",
    "from models.deep_models import DeepFM\n",
    "from IPython.core.display import display, HTML\n",
    "pd.set_option('display.max_rows', 500)      #设置最大行数\n",
    "pd.set_option('display.max_columns', 200)  #设置最大列数\n",
    "display(HTML(\"<style>.container { width:80% !important; }</style>\"))"
   ]
  },
  {
   "cell_type": "code",
   "execution_count": 2,
   "metadata": {},
   "outputs": [],
   "source": [
    "def load_data():\n",
    "    train_data = pd.read_csv('../data/titanic/train.csv')\n",
    "    test_data = pd.read_csv('../data/titanic/test.csv')\n",
    "    \n",
    "    default_values = {'Age': train_data.Age.mean(), 'Cabin': 'NULL', 'Embarked': 'Q'}\n",
    "    for k, v in default_values.items():\n",
    "        train_data[k] = train_data[k].fillna(v)\n",
    "        test_data[k] = test_data[k].fillna(v)\n",
    "    return train_data, test_data"
   ]
  },
  {
   "cell_type": "code",
   "execution_count": 3,
   "metadata": {},
   "outputs": [],
   "source": [
    "numeric_vars = ['Age', 'Fare']\n",
    "category_vars = ['Pclass', 'Sex', 'SibSp', 'Parch', 'Cabin', 'Embarked']\n",
    "ignore_vars = ['PassengerId', 'Name', 'Ticket']\n",
    "train_raw, test_raw = load_data()\n",
    "train_raw = train_raw[numeric_vars + category_vars + ['Survived']]\n",
    "test_raw = test_raw[numeric_vars + category_vars]"
   ]
  },
  {
   "cell_type": "code",
   "execution_count": 4,
   "metadata": {},
   "outputs": [],
   "source": [
    "dp = DataParser(train_raw, test_raw, numeric_vars=numeric_vars, category_vars=category_vars, ignore_vars=ignore_vars)\n",
    "train, valid = train_test_split(train_raw, test_size=0.3, random_state=0)\n",
    "Xv_train, Xi_train, y_train = dp.parse(train, label_col='Survived')\n",
    "Xv_valid, Xi_valid, y_valid = dp.parse(valid, label_col='Survived')"
   ]
  },
  {
   "cell_type": "code",
   "execution_count": 6,
   "metadata": {
    "scrolled": true
   },
   "outputs": [],
   "source": [
    "feature_size, field_size = dp.feature_size, dp.field_size\n",
    "fm = DeepFM(feature_size=feature_size, field_size=field_size, use_fm=True, use_deep=False, embedding_size=5, optimizer_type=\"adam\", loss_type=\"logloss\", epoch=1000)"
   ]
  },
  {
   "cell_type": "code",
   "execution_count": 7,
   "metadata": {
    "scrolled": true
   },
   "outputs": [
    {
     "name": "stdout",
     "output_type": "stream",
     "text": [
      "[5] [2021-07-10 10:04:45] train-result=0.5503, valid-result=0.5391 \n",
      "[10] [2021-07-10 10:04:45] train-result=0.5000, valid-result=0.5250 \n",
      "[15] [2021-07-10 10:04:45] train-result=0.3501, valid-result=0.3045 \n",
      "[20] [2021-07-10 10:04:45] train-result=0.3975, valid-result=0.3563 \n",
      "[25] [2021-07-10 10:04:45] train-result=0.4096, valid-result=0.3786 \n",
      "[30] [2021-07-10 10:04:45] train-result=0.4201, valid-result=0.3836 \n",
      "[35] [2021-07-10 10:04:45] train-result=0.4502, valid-result=0.3948 \n",
      "[40] [2021-07-10 10:04:45] train-result=0.4957, valid-result=0.4677 \n",
      "[45] [2021-07-10 10:04:45] train-result=0.6044, valid-result=0.6151 \n",
      "[50] [2021-07-10 10:04:45] train-result=0.7004, valid-result=0.7374 \n",
      "[55] [2021-07-10 10:04:45] train-result=0.7359, valid-result=0.7718 \n",
      "[60] [2021-07-10 10:04:45] train-result=0.7606, valid-result=0.7939 \n",
      "[65] [2021-07-10 10:04:45] train-result=0.7729, valid-result=0.7950 \n",
      "[70] [2021-07-10 10:04:45] train-result=0.7859, valid-result=0.7977 \n",
      "[75] [2021-07-10 10:04:45] train-result=0.7999, valid-result=0.8009 \n",
      "[80] [2021-07-10 10:04:45] train-result=0.8122, valid-result=0.8048 \n",
      "[85] [2021-07-10 10:04:45] train-result=0.8239, valid-result=0.8109 \n",
      "[90] [2021-07-10 10:04:45] train-result=0.8342, valid-result=0.8157 \n",
      "[95] [2021-07-10 10:04:45] train-result=0.8457, valid-result=0.8210 \n",
      "[100] [2021-07-10 10:04:45] train-result=0.8559, valid-result=0.8261 \n",
      "[105] [2021-07-10 10:04:45] train-result=0.8655, valid-result=0.8344 \n",
      "[110] [2021-07-10 10:04:45] train-result=0.8754, valid-result=0.8438 \n",
      "[115] [2021-07-10 10:04:45] train-result=0.8822, valid-result=0.8539 \n",
      "[120] [2021-07-10 10:04:45] train-result=0.8864, valid-result=0.8611 \n",
      "[125] [2021-07-10 10:04:46] train-result=0.8891, valid-result=0.8651 \n",
      "[130] [2021-07-10 10:04:46] train-result=0.8916, valid-result=0.8665 \n",
      "[135] [2021-07-10 10:04:46] train-result=0.8941, valid-result=0.8688 \n",
      "[140] [2021-07-10 10:04:46] train-result=0.8964, valid-result=0.8706 \n",
      "[145] [2021-07-10 10:04:46] train-result=0.8987, valid-result=0.8713 \n",
      "[150] [2021-07-10 10:04:46] train-result=0.9003, valid-result=0.8725 \n",
      "[155] [2021-07-10 10:04:46] train-result=0.9014, valid-result=0.8729 \n",
      "[160] [2021-07-10 10:04:46] train-result=0.9023, valid-result=0.8723 \n",
      "[165] [2021-07-10 10:04:46] train-result=0.9036, valid-result=0.8721 \n",
      "[170] [2021-07-10 10:04:46] train-result=0.9049, valid-result=0.8723 \n",
      "[175] [2021-07-10 10:04:46] train-result=0.9057, valid-result=0.8715 \n",
      "[180] [2021-07-10 10:04:46] train-result=0.9067, valid-result=0.8706 \n",
      "[185] [2021-07-10 10:04:46] train-result=0.9079, valid-result=0.8697 \n",
      "[190] [2021-07-10 10:04:46] train-result=0.9087, valid-result=0.8690 \n",
      "[195] [2021-07-10 10:04:46] train-result=0.9095, valid-result=0.8690 \n",
      "[200] [2021-07-10 10:04:46] train-result=0.9102, valid-result=0.8686 \n",
      "[205] [2021-07-10 10:04:46] train-result=0.9107, valid-result=0.8682 \n",
      "Stopping. Best iteration:\n",
      "[157] [2021-07-10 10:04:46] train-result=0.9016, valid-result=0.8732 \n"
     ]
    }
   ],
   "source": [
    "fm.fit(Xi_train=Xi_train, Xv_train=Xv_train, y_train=y_train, Xi_valid=Xi_valid, Xv_valid=Xv_valid, y_valid=y_valid,\n",
    "            early_stopping_rounds=50, greater_is_better=True, verbose=5)"
   ]
  },
  {
   "cell_type": "code",
   "execution_count": 8,
   "metadata": {},
   "outputs": [],
   "source": [
    "order1_W = fm.sess.run(fm.weights['W'])\n",
    "order1_b = fm.sess.run(fm.weights['b'])\n",
    "order2_W = fm.sess.run(fm.weights['embeddings'])\n",
    "with open('../stores/fm.model', 'wb') as f:\n",
    "    pickle.dump(order1_W, f)\n",
    "    pickle.dump(order1_b, f)\n",
    "    pickle.dump(order2_W, f)\n",
    "    pickle.dump((numeric_vars, category_vars, ignore_vars), f)"
   ]
  },
  {
   "cell_type": "code",
   "execution_count": null,
   "metadata": {},
   "outputs": [],
   "source": []
  }
 ],
 "metadata": {
  "kernelspec": {
   "display_name": "consign3",
   "language": "python",
   "name": "consign3"
  },
  "language_info": {
   "codemirror_mode": {
    "name": "ipython",
    "version": 3
   },
   "file_extension": ".py",
   "mimetype": "text/x-python",
   "name": "python",
   "nbconvert_exporter": "python",
   "pygments_lexer": "ipython3",
   "version": "3.6.7"
  }
 },
 "nbformat": 4,
 "nbformat_minor": 2
}
